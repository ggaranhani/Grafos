{
 "metadata": {
  "language_info": {
   "codemirror_mode": {
    "name": "ipython",
    "version": 3
   },
   "file_extension": ".py",
   "mimetype": "text/x-python",
   "name": "python",
   "nbconvert_exporter": "python",
   "pygments_lexer": "ipython3",
   "version": "3.8.2-final"
  },
  "orig_nbformat": 2,
  "kernelspec": {
   "name": "Python 3.8.2 64-bit",
   "display_name": "Python 3.8.2 64-bit",
   "metadata": {
    "interpreter": {
     "hash": "1baa965d5efe3ac65b79dfc60c0d706280b1da80fedb7760faf2759126c4f253"
    }
   }
  }
 },
 "nbformat": 4,
 "nbformat_minor": 2,
 "cells": [
  {
   "cell_type": "code",
   "execution_count": 2,
   "metadata": {},
   "outputs": [],
   "source": [
    "from graphclasses import Graph"
   ]
  },
  {
   "source": [
    "## Dado o grafo G1:"
   ],
   "cell_type": "markdown",
   "metadata": {}
  },
  {
   "cell_type": "code",
   "execution_count": 8,
   "metadata": {},
   "outputs": [
    {
     "output_type": "stream",
     "name": "stdout",
     "text": [
      "1: { '2' '4' }\n2: { '1' '3' '4' }\n3: { '2' '4' }\n4: { '1' '2' '3' }\n"
     ]
    }
   ],
   "source": [
    "G1 = Graph({1,2,3,4})\n",
    "G1.add_edge_from([(1,2), (1,4), (2,3), (2, 4), (3, 4)])\n",
    "G1.print_sorted()\n"
   ]
  },
  {
   "source": [
    "<img src=\"graph.png\">\n"
   ],
   "cell_type": "markdown",
   "metadata": {}
  },
  {
   "source": [
    "## Para verificar se o grafo é euleriano basta checar as condições:\n",
    "* ### O grafo deve ser conectado\n",
    "* ### O grau de cada vértice deve ser par\n"
   ],
   "cell_type": "markdown",
   "metadata": {}
  },
  {
   "cell_type": "code",
   "execution_count": 4,
   "metadata": {},
   "outputs": [
    {
     "output_type": "execute_result",
     "data": {
      "text/plain": [
       "False"
      ]
     },
     "metadata": {},
     "execution_count": 4
    }
   ],
   "source": [
    "G1.is_eulerian()"
   ]
  },
  {
   "source": [
    "## Dado o grafo G2"
   ],
   "cell_type": "markdown",
   "metadata": {}
  },
  {
   "cell_type": "code",
   "execution_count": 9,
   "metadata": {},
   "outputs": [
    {
     "output_type": "stream",
     "name": "stdout",
     "text": [
      "1: { '4' '5' '7' }\n4: { '1' '6' }\n5: { '1' '6' '7' }\n6: { '4' '5' }\n7: { '1' '5' }\n"
     ]
    }
   ],
   "source": [
    "G2 = Graph({1,4,5,6,7})\n",
    "G2.add_edge_from([(1,7), (7,5), (4,6), (2,7), (5,1), (6,5), (1,4)])\n",
    "G2.print_sorted()"
   ]
  },
  {
   "source": [
    "<img src=\"graph2.png\">"
   ],
   "cell_type": "markdown",
   "metadata": {}
  },
  {
   "source": [
    "## Intersecção de G1 e G2:"
   ],
   "cell_type": "markdown",
   "metadata": {}
  },
  {
   "cell_type": "code",
   "execution_count": 10,
   "metadata": {},
   "outputs": [
    {
     "output_type": "stream",
     "name": "stdout",
     "text": [
      "1: { '4' }\n4: { '1' }\n"
     ]
    }
   ],
   "source": [
    "I = G1.intersection(H)\n",
    "I.print_sorted()"
   ]
  },
  {
   "source": [
    "<img src=\"graph3.png\">"
   ],
   "cell_type": "markdown",
   "metadata": {}
  },
  {
   "source": [
    "## Para verificar se existe um circuito Hamiltoniano em G1 pode-se implementar busca em profundidade com backtracking:"
   ],
   "cell_type": "markdown",
   "metadata": {}
  },
  {
   "cell_type": "code",
   "execution_count": 11,
   "metadata": {},
   "outputs": [
    {
     "output_type": "execute_result",
     "data": {
      "text/plain": [
       "[2, 1, 4, 2]"
      ]
     },
     "metadata": {},
     "execution_count": 11
    }
   ],
   "source": [
    "G1.find_simple_cycle(2)"
   ]
  },
  {
   "source": [
    "## Também é possível saber se todos os vértices do grafo geram um circuito Hamitoniano:"
   ],
   "cell_type": "markdown",
   "metadata": {}
  },
  {
   "cell_type": "code",
   "execution_count": 12,
   "metadata": {},
   "outputs": [
    {
     "output_type": "execute_result",
     "data": {
      "text/plain": [
       "[1, 2, 3, 4, 1]"
      ]
     },
     "metadata": {},
     "execution_count": 12
    }
   ],
   "source": [
    "G1.hamiltonian_circuit(1)"
   ]
  },
  {
   "source": [
    "## Como exemplo de grafo que tem um caminho Hamiltoniano mas não contém circuito Hamiltoniano temos H:"
   ],
   "cell_type": "markdown",
   "metadata": {}
  },
  {
   "cell_type": "code",
   "execution_count": 13,
   "metadata": {},
   "outputs": [],
   "source": [
    "H = Graph([1,2,3,4])\n",
    "H.add_edge_from([(1,2), (2,3), (3,4)])"
   ]
  },
  {
   "source": [
    "<img src=\"graph4.png\">"
   ],
   "cell_type": "markdown",
   "metadata": {}
  },
  {
   "cell_type": "code",
   "execution_count": 14,
   "metadata": {},
   "outputs": [
    {
     "output_type": "execute_result",
     "data": {
      "text/plain": [
       "[1, 2, 3, 4]"
      ]
     },
     "metadata": {},
     "execution_count": 14
    }
   ],
   "source": [
    "H.hamiltonian_path()"
   ]
  },
  {
   "cell_type": "code",
   "execution_count": 19,
   "metadata": {},
   "outputs": [
    {
     "output_type": "execute_result",
     "data": {
      "text/plain": [
       "'No circuit found!'"
      ]
     },
     "metadata": {},
     "execution_count": 19
    }
   ],
   "source": [
    "H.hamiltonian_circuit()"
   ]
  },
  {
   "cell_type": "code",
   "execution_count": 20,
   "metadata": {},
   "outputs": [
    {
     "output_type": "execute_result",
     "data": {
      "text/plain": [
       "[1]"
      ]
     },
     "metadata": {},
     "execution_count": 20
    }
   ],
   "source": [
    "H.find_simple_cycle()"
   ]
  },
  {
   "source": [
    "<img src=\"naohamiltoniano.png\">"
   ],
   "cell_type": "markdown",
   "metadata": {}
  }
 ]
}