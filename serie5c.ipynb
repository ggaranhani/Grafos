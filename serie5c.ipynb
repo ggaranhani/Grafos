{
 "metadata": {
  "language_info": {
   "codemirror_mode": {
    "name": "ipython",
    "version": 3
   },
   "file_extension": ".py",
   "mimetype": "text/x-python",
   "name": "python",
   "nbconvert_exporter": "python",
   "pygments_lexer": "ipython3",
   "version": "3.8.2-final"
  },
  "orig_nbformat": 2,
  "kernelspec": {
   "name": "Python 3.8.2 64-bit",
   "display_name": "Python 3.8.2 64-bit",
   "metadata": {
    "interpreter": {
     "hash": "1baa965d5efe3ac65b79dfc60c0d706280b1da80fedb7760faf2759126c4f253"
    }
   }
  }
 },
 "nbformat": 4,
 "nbformat_minor": 2,
 "cells": [
  {
   "cell_type": "code",
   "execution_count": 1,
   "metadata": {},
   "outputs": [],
   "source": [
    "from graphclasses import Graph"
   ]
  },
  {
   "source": [
    "## Grafo G1"
   ],
   "cell_type": "markdown",
   "metadata": {}
  },
  {
   "cell_type": "code",
   "execution_count": 2,
   "metadata": {
    "tags": []
   },
   "outputs": [
    {
     "output_type": "stream",
     "name": "stdout",
     "text": "1: { 2 4 }\n2: { 1 3 4 }\n3: { 2 4 }\n4: { 1 2 3 }\n"
    }
   ],
   "source": [
    "G1 = Graph({1,2,3,4})\n",
    "G1.add_edge_from([(1,2), (1,4), (2,3), (2, 4), (3, 4)])\n",
    "G1.print_sorted()"
   ]
  },
  {
   "source": [
    "## Grafo G2"
   ],
   "cell_type": "markdown",
   "metadata": {}
  },
  {
   "cell_type": "code",
   "execution_count": 3,
   "metadata": {
    "tags": []
   },
   "outputs": [
    {
     "output_type": "stream",
     "name": "stdout",
     "text": "1: { 4 5 7 }\n4: { 1 6 }\n5: { 1 6 7 }\n6: { 4 5 }\n7: { 1 5 }\n"
    }
   ],
   "source": [
    "G2 = Graph({1,4,5,6,7})\n",
    "G2.add_edge_from([(1,7), (7,5), (4,6), (2,7), (5,1), (6,5), (1,4)])\n",
    "G2.print_sorted()"
   ]
  },
  {
   "source": [
    "## União de G1 e G2:"
   ],
   "cell_type": "markdown",
   "metadata": {}
  },
  {
   "cell_type": "code",
   "execution_count": 4,
   "metadata": {
    "tags": []
   },
   "outputs": [
    {
     "output_type": "stream",
     "name": "stdout",
     "text": "1: { 2 4 5 7 }\n2: { 1 3 4 }\n3: { 2 4 }\n4: { 1 2 3 6 }\n5: { 1 6 7 }\n6: { 4 5 }\n7: { 1 5 }\n"
    }
   ],
   "source": [
    "union = G1.union(G2)\n",
    "union.print_sorted()"
   ]
  },
  {
   "source": [
    "## Intersecção de G1 e G2:"
   ],
   "cell_type": "markdown",
   "metadata": {}
  },
  {
   "cell_type": "code",
   "execution_count": 5,
   "metadata": {
    "tags": []
   },
   "outputs": [
    {
     "output_type": "stream",
     "name": "stdout",
     "text": "1: { 4 }\n4: { 1 }\n"
    }
   ],
   "source": [
    "intersection = G1.intersection(G2)\n",
    "intersection.print_sorted()"
   ]
  },
  {
   "source": [
    "## Diferença simétrica de G1 e G2:"
   ],
   "cell_type": "markdown",
   "metadata": {}
  },
  {
   "cell_type": "code",
   "execution_count": 6,
   "metadata": {
    "tags": []
   },
   "outputs": [
    {
     "output_type": "stream",
     "name": "stdout",
     "text": "1: { 2 }\n2: { 1 3 4 }\n3: { 2 4 }\n4: { 2 3 }\n5: { 1 6 7 }\n6: { 4 5 }\n7: { 1 5 }\n"
    }
   ],
   "source": [
    "dsum = G1.direct_sum(G2)\n",
    "dsum.print_sorted()"
   ]
  },
  {
   "source": [
    "## G2 gerado a partir de G1 com a remoção do vértice '1':"
   ],
   "cell_type": "markdown",
   "metadata": {}
  },
  {
   "cell_type": "code",
   "execution_count": 7,
   "metadata": {
    "tags": []
   },
   "outputs": [
    {
     "output_type": "stream",
     "name": "stdout",
     "text": "2: { 3 4 }\n3: { 2 4 }\n4: { 2 3 }\n"
    }
   ],
   "source": [
    "G2 = G1.copy(v_list=[1])\n",
    "G2.print_sorted()"
   ]
  },
  {
   "source": [
    "## G2 gerado a partir de G1 com a remoção da aresta entre os vértices '2' e '3':"
   ],
   "cell_type": "markdown",
   "metadata": {}
  },
  {
   "cell_type": "code",
   "execution_count": 8,
   "metadata": {
    "tags": []
   },
   "outputs": [
    {
     "output_type": "stream",
     "name": "stdout",
     "text": "1: { 2 4 }\n2: { 1 4 }\n3: { 4 }\n4: { 1 2 3 }\n"
    }
   ],
   "source": [
    "G2 = G1.copy(e_list=[(2,3)])\n",
    "G2.print_sorted()"
   ]
  },
  {
   "source": [
    "## Fusão dos vértices '1' e '2' do grafo G1:"
   ],
   "cell_type": "markdown",
   "metadata": {}
  },
  {
   "source": [
    "### Antes:"
   ],
   "cell_type": "markdown",
   "metadata": {}
  },
  {
   "cell_type": "code",
   "execution_count": 9,
   "metadata": {
    "tags": []
   },
   "outputs": [
    {
     "output_type": "stream",
     "name": "stdout",
     "text": "1: { 2 4 }\n2: { 1 3 4 }\n3: { 2 4 }\n4: { 1 2 3 }\n"
    }
   ],
   "source": [
    "G1.print_sorted()"
   ]
  },
  {
   "source": [
    "### Depois:"
   ],
   "cell_type": "markdown",
   "metadata": {}
  },
  {
   "cell_type": "code",
   "execution_count": 10,
   "metadata": {
    "tags": []
   },
   "outputs": [
    {
     "output_type": "stream",
     "name": "stdout",
     "text": "1: { 1 3 4 }\n3: { 1 4 }\n4: { 1 3 }\n"
    }
   ],
   "source": [
    "G1.vertex_fusion(1,2)\n",
    "G1.print_sorted()"
   ]
  }
 ]
}