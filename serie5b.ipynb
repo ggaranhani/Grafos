{
 "metadata": {
  "language_info": {
   "codemirror_mode": {
    "name": "ipython",
    "version": 3
   },
   "file_extension": ".py",
   "mimetype": "text/x-python",
   "name": "python",
   "nbconvert_exporter": "python",
   "pygments_lexer": "ipython3",
   "version": "3.8.2-final"
  },
  "orig_nbformat": 2,
  "kernelspec": {
   "name": "Python 3.8.2 64-bit",
   "display_name": "Python 3.8.2 64-bit",
   "metadata": {
    "interpreter": {
     "hash": "1baa965d5efe3ac65b79dfc60c0d706280b1da80fedb7760faf2759126c4f253"
    }
   }
  }
 },
 "nbformat": 4,
 "nbformat_minor": 2,
 "cells": [
  {
   "cell_type": "code",
   "execution_count": 24,
   "metadata": {
    "tags": []
   },
   "outputs": [],
   "source": [
    "from graphclasses import ListGraph"
   ]
  },
  {
   "cell_type": "code",
   "execution_count": 25,
   "metadata": {
    "tags": []
   },
   "outputs": [
    {
     "output_type": "stream",
     "name": "stdout",
     "text": "a: { 'b' 'c' 'e' 'g' }\nb: { 'a' 'c' }\nc: { 'a' 'b' 'e' 'f' }\nd: { 'g' }\ne: { 'a' 'c' }\nf: { 'c' 'g' }\ng: { 'a' 'd' 'f' }\n"
    }
   ],
   "source": [
    "G = ListGraph({'a', 'b', 'c', 'd', 'e', 'f', 'g'})\n",
    "G.add_edge('a', 'b')\n",
    "G.add_edge('a', 'e')\n",
    "G.add_edge_from([('e', 'c'), ('b', 'c'), ('a', 'c'), ('f', 'g'), ('f', 'c'), ('g', 'a'), ('d', 'g')])\n",
    "G.print_sorted()"
   ]
  },
  {
   "source": [
    "Para checar se existe um caminho entre dois vértices v1 e v2 pertencentes ao grafo G basta executar uma busca em profundidade, que garantirá que encontremos um caminho sem repetição de vértices (apesar de não garantir o menor caminho possível):"
   ],
   "cell_type": "markdown",
   "metadata": {}
  },
  {
   "cell_type": "code",
   "execution_count": 26,
   "metadata": {},
   "outputs": [
    {
     "output_type": "execute_result",
     "data": {
      "text/plain": "['a', 'b', 'c', 'e']"
     },
     "metadata": {},
     "execution_count": 26
    }
   ],
   "source": [
    "G.dfs('a', 'e')"
   ]
  },
  {
   "source": [
    "Para identificar um ciclo presente em um grafo é necessário adaptar o algoritmo <i>DFS</i> para alcançar o nó pai e realizar <i>backtracking</i>, uma vez que nós que não contribuem para o ciclo não devem ser listados."
   ],
   "cell_type": "markdown",
   "metadata": {}
  },
  {
   "cell_type": "code",
   "execution_count": 19,
   "metadata": {
    "tags": []
   },
   "outputs": [
    {
     "output_type": "execute_result",
     "data": {
      "text/plain": "['a', 'b', 'c', 'e', 'a']"
     },
     "metadata": {},
     "execution_count": 19
    }
   ],
   "source": [
    "G.find_simple_cycle('a')"
   ]
  },
  {
   "source": [
    "Um grafo conectado admite ao menos um caminho entre dois vértices. Assim, basta executar uma busca em profundidade de um vértice em relação aos outros."
   ],
   "cell_type": "markdown",
   "metadata": {}
  },
  {
   "cell_type": "code",
   "execution_count": 23,
   "metadata": {},
   "outputs": [
    {
     "output_type": "execute_result",
     "data": {
      "text/plain": "True"
     },
     "metadata": {},
     "execution_count": 23
    }
   ],
   "source": [
    "G.is_connected()"
   ]
  },
  {
   "source": [
    "## Vimos em aula a solução do problema das Pontes de Könisgsberg. Mostre um outro problema real que possa ser resolvido usando a mesma técnica de solução usada por Euler para resolver o referido problema.\n",
    "\n",
    "<img src=\"http://consultoriaadistancia.com.br/blog/wp-content/uploads/2015/07/layout-interno-supermercado.jpg\" width=\"800\">\n",
    "\n",
    "## Pegar todos os produtos necessários passando uma única vez por cada corredor.\n",
    "## No caso, cada produto seria um vértice e os caminhos entre os produtos as arestas."
   ],
   "cell_type": "markdown",
   "metadata": {}
  },
  {
   "cell_type": "code",
   "execution_count": null,
   "metadata": {},
   "outputs": [],
   "source": []
  }
 ]
}