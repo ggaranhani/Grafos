{
 "metadata": {
  "language_info": {
   "codemirror_mode": {
    "name": "ipython",
    "version": 3
   },
   "file_extension": ".py",
   "mimetype": "text/x-python",
   "name": "python",
   "nbconvert_exporter": "python",
   "pygments_lexer": "ipython3",
   "version": "3.8.2-final"
  },
  "orig_nbformat": 2,
  "kernelspec": {
   "name": "python_defaultSpec_1600430338183",
   "display_name": "Python 3.8.2 64-bit"
  }
 },
 "nbformat": 4,
 "nbformat_minor": 2,
 "cells": [
  {
   "cell_type": "code",
   "execution_count": 94,
   "metadata": {
    "tags": []
   },
   "outputs": [],
   "source": [
    "from graphclasses import ListGraph"
   ]
  },
  {
   "cell_type": "code",
   "execution_count": 101,
   "metadata": {
    "tags": []
   },
   "outputs": [
    {
     "output_type": "stream",
     "name": "stdout",
     "text": "G: {}\nB: {}\nR: {}\nW: {}\n"
    }
   ],
   "source": [
    "G = ListGraph({'B', 'W', 'R', 'G'})\n",
    "G.print()"
   ]
  },
  {
   "cell_type": "code",
   "execution_count": 102,
   "metadata": {
    "tags": []
   },
   "outputs": [],
   "source": [
    "cubo1 = [('B', 'W'), ('R', 'G'), ('R', 'R')]\n",
    "cubo2 = [('B', 'W'), ('G', 'R'), ('G', 'W')]\n",
    "cubo3 = [('G', 'W'), ('R', 'B'), ('R', 'W')]\n",
    "cubo4 = [('B', 'W'), ('G', 'G'), ('B', 'R')]"
   ]
  },
  {
   "cell_type": "code",
   "execution_count": null,
   "metadata": {},
   "outputs": [],
   "source": [
    "cubo1 = [('B', 'R'), ('Y', 'G'), ('R', 'G')]\n",
    "cubo2 = [('R', 'Y'), ('G', 'Y'), ('B', 'G')]\n",
    "cubo3 = [('Y', 'G'), ('R', 'B'), ('G', 'R')]\n",
    "cubo4 = [('G', 'B'), ('R', 'R'), ('Y', 'B')]"
   ]
  },
  {
   "cell_type": "code",
   "execution_count": 103,
   "metadata": {
    "tags": []
   },
   "outputs": [
    {
     "output_type": "stream",
     "name": "stdout",
     "text": "G: {'R': [1, 2], 'W': [1, 3], 'G': [1]}\nB: {'W': [1, 2, 4], 'R': [1, 4]}\nR: {'G': [1, 2], 'R': [1], 'B': [1, 4], 'W': [1]}\nW: {'B': [1, 2, 4], 'G': [1, 3], 'R': [1]}\n"
    }
   ],
   "source": [
    "G.add_edge_from(cubo1, w=1)\n",
    "G.add_edge_from(cubo2, w=2)\n",
    "G.add_edge_from(cubo3, w=3)\n",
    "G.add_edge_from(cubo4, w=4)\n",
    "G.print()"
   ]
  },
  {
   "cell_type": "code",
   "execution_count": 91,
   "metadata": {
    "tags": []
   },
   "outputs": [
    {
     "output_type": "stream",
     "name": "stdout",
     "text": "G: {'Y': [1, 2, 3], 'R': [1, 3], 'B': [1, 4]}\nB: {'R': [1, 3], 'G': [1, 4], 'Y': [1]}\nR: {'B': [1, 3], 'G': [1, 3], 'Y': [1], 'R': [1]}\nY: {'G': [1, 2, 3], 'R': [1], 'B': [1]}\n"
    }
   ],
   "source": [
    "G.print()"
   ]
  },
  {
   "cell_type": "code",
   "execution_count": 104,
   "metadata": {},
   "outputs": [
    {
     "output_type": "execute_result",
     "data": {
      "text/plain": "(['G', 'R', 'B', 'W'], [1, 4, 2])"
     },
     "metadata": {},
     "execution_count": 104
    }
   ],
   "source": [
    "G.colored_cubes('G')\n"
   ]
  },
  {
   "cell_type": "code",
   "execution_count": 105,
   "metadata": {},
   "outputs": [
    {
     "output_type": "execute_result",
     "data": {
      "text/plain": "(['R', 'G', 'W', 'B'], [1, 3, 2])"
     },
     "metadata": {},
     "execution_count": 105
    }
   ],
   "source": [
    "G.colored_cubes('R')"
   ]
  },
  {
   "source": [
    "## Outra aplicação do problema dos cubos coloridos: "
   ],
   "cell_type": "markdown",
   "metadata": {}
  },
  {
   "source": [
    "![](http://www.carlospessoa.com.br/wp-content/uploads/2018/10/caixeiro_viajante.jpg)"
   ],
   "cell_type": "markdown",
   "metadata": {}
  },
  {
   "source": [
    "## Problema do caixeiro viajante\n",
    "### Desconsiderando a minimização da distância total percorrida\n",
    "<img src=\"https://www.researchgate.net/profile/Matheus_Moro2/publication/327710387/figure/fig1/AS:727673898795008@1550502385198/Figura-1-Problema-do-Caixeiro-Viajante.ppm\" width=\"538\" >\n"
   ],
   "cell_type": "markdown",
   "metadata": {}
  },
  {
   "cell_type": "code",
   "execution_count": 73,
   "metadata": {
    "tags": []
   },
   "outputs": [
    {
     "output_type": "stream",
     "name": "stdout",
     "text": "a: { 'b' 'c' 'e' }\nb: { 'a' 'c' }\nc: { 'a' 'b' 'e' }\nd: { }\ne: { 'a' 'c' }\n"
    }
   ],
   "source": [
    "G = ListGraph({'a', 'b', 'c', 'd', 'e'})\n",
    "G.add_edge('a', 'b')\n",
    "G.add_edge('a', 'e')\n",
    "G.add_edge_from([('e', 'c'), ('b', 'c'), ('a', 'c')])\n",
    "G.print_sorted()"
   ]
  },
  {
   "cell_type": "code",
   "execution_count": 74,
   "metadata": {
    "tags": []
   },
   "outputs": [
    {
     "output_type": "stream",
     "name": "stdout",
     "text": "c: { }\ne: { 'g' 'p' }\ng: { 'e' 'p' 'y' }\np: { 'e' 'g' 'y' }\ny: { 'g' 'p' }\n"
    }
   ],
   "source": [
    "G2 = ListGraph({'p', 'y', 'c', 'g', 'e'})\n",
    "G2.add_edge('p', 'y')\n",
    "G2.add_edge('p', 'e')\n",
    "G2.add_edge_from([('e', 'g'), ('y', 'g'), ('p', 'g')])\n",
    "G2.print_sorted()"
   ]
  },
  {
   "cell_type": "code",
   "execution_count": 75,
   "metadata": {
    "tags": []
   },
   "outputs": [
    {
     "output_type": "execute_result",
     "data": {
      "text/plain": "True"
     },
     "metadata": {},
     "execution_count": 75
    }
   ],
   "source": [
    "G.is_isomorphic(G2.get_dict())"
   ]
  },
  {
   "cell_type": "code",
   "execution_count": 76,
   "metadata": {
    "tags": []
   },
   "outputs": [
    {
     "output_type": "stream",
     "name": "stdout",
     "text": "c: { }\ne: { 'g' }\ng: { 'e' 'y' }\ny: { 'g' }\n"
    }
   ],
   "source": [
    "G2 = ListGraph({'y', 'c', 'g', 'e'})\n",
    "G2.add_edge_from([('e', 'g'), ('y', 'g')])\n",
    "G2.print_sorted()"
   ]
  },
  {
   "cell_type": "code",
   "execution_count": 77,
   "metadata": {},
   "outputs": [
    {
     "output_type": "execute_result",
     "data": {
      "text/plain": "False"
     },
     "metadata": {},
     "execution_count": 77
    }
   ],
   "source": [
    "G.is_isomorphic(G2.get_dict())"
   ]
  },
  {
   "cell_type": "code",
   "execution_count": 78,
   "metadata": {
    "tags": []
   },
   "outputs": [
    {
     "output_type": "stream",
     "name": "stdout",
     "text": "c: { }\ne: { 'f' 'g' 'p' }\nf: { 'e' }\ng: { 'e' 'p' 'y' }\np: { 'e' 'g' 'y' }\ny: { 'g' 'p' }\n"
    }
   ],
   "source": [
    "G2 = ListGraph({'p', 'y', 'c', 'g', 'e', 'f'})\n",
    "G2.add_edge('p', 'y')\n",
    "G2.add_edge('p', 'e')\n",
    "G2.add_edge_from([('e', 'g'), ('y', 'g'), ('p', 'g')])\n",
    "G2.add_edge('f', 'e')\n",
    "G2.print_sorted()"
   ]
  },
  {
   "cell_type": "code",
   "execution_count": 79,
   "metadata": {},
   "outputs": [
    {
     "output_type": "execute_result",
     "data": {
      "text/plain": "False"
     },
     "metadata": {},
     "execution_count": 79
    }
   ],
   "source": [
    "G.is_isomorphic(G2.get_dict())"
   ]
  },
  {
   "cell_type": "code",
   "execution_count": null,
   "metadata": {},
   "outputs": [],
   "source": []
  }
 ]
}